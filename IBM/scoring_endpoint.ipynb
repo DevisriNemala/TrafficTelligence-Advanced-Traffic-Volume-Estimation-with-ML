{
 "cells": [
  {
   "cell_type": "code",
   "execution_count": 2,
   "id": "b3b8982c-b5f1-48a2-a9d0-398b093b018f",
   "metadata": {},
   "outputs": [
    {
     "name": "stdout",
     "output_type": "stream",
     "text": [
      "R2 Score: -0.1571\n",
      "RMSE: 2138.82\n"
     ]
    },
    {
     "data": {
      "text/plain": [
       "['model_pipeline.pkl']"
      ]
     },
     "execution_count": 2,
     "metadata": {},
     "output_type": "execute_result"
    }
   ],
   "source": [
    "import pandas as pd\n",
    "import numpy as np\n",
    "import joblib  # ✅ used instead of pickle\n",
    "\n",
    "from sklearn.model_selection import train_test_split\n",
    "from sklearn.ensemble import RandomForestRegressor\n",
    "from sklearn.metrics import r2_score, mean_squared_error\n",
    "from sklearn.impute import SimpleImputer\n",
    "from sklearn.preprocessing import StandardScaler, OneHotEncoder\n",
    "from sklearn.compose import ColumnTransformer\n",
    "from sklearn.pipeline import Pipeline\n",
    "\n",
    "# Load Dataset\n",
    "df = pd.read_csv(\"weatherAus.csv\")\n",
    "df.columns = df.columns.str.lower().str.strip()\n",
    "df.replace(\"None\", np.nan, inplace=True)\n",
    "df['temp'] = pd.to_numeric(df['temp'], errors='coerce')\n",
    "\n",
    "# Drop unnecessary columns\n",
    "df.drop(['date', 'time'], axis=1, inplace=True)\n",
    "\n",
    "# Define features and target\n",
    "X = df.drop(\"traffic_volume\", axis=1)\n",
    "y = df[\"traffic_volume\"].astype(float)\n",
    "\n",
    "# Define column types\n",
    "categorical_features = [\"holiday\", \"weather\"]\n",
    "numerical_features = [\"temp\", \"rain\", \"snow\"]\n",
    "\n",
    "# Preprocessing pipelines\n",
    "num_pipeline = Pipeline([\n",
    "    ('imputer', SimpleImputer(strategy=\"mean\")),\n",
    "    ('scaler', StandardScaler())\n",
    "])\n",
    "\n",
    "cat_pipeline = Pipeline([\n",
    "    ('imputer', SimpleImputer(strategy=\"most_frequent\")),\n",
    "    ('encoder', OneHotEncoder(handle_unknown='ignore'))\n",
    "])\n",
    "\n",
    "# Combine preprocessing\n",
    "preprocessor = ColumnTransformer([\n",
    "    ('num', num_pipeline, numerical_features),\n",
    "    ('cat', cat_pipeline, categorical_features)\n",
    "])\n",
    "\n",
    "# Full pipeline with model (reduced n_estimators for size)\n",
    "model_pipeline = Pipeline([\n",
    "    ('preprocessor', preprocessor),\n",
    "    ('model', RandomForestRegressor(n_estimators=25, random_state=42))  # Reduced from 100\n",
    "])\n",
    "\n",
    "# Train/test split\n",
    "X_train, X_test, y_train, y_test = train_test_split(X, y, test_size=0.2, random_state=42)\n",
    "\n",
    "# Fit model\n",
    "model_pipeline.fit(X_train, y_train)\n",
    "\n",
    "# Evaluate\n",
    "y_pred = model_pipeline.predict(X_test)\n",
    "r2 = r2_score(y_test, y_pred)\n",
    "rmse = np.sqrt(mean_squared_error(y_test, y_pred))\n",
    "print(f\"R2 Score: {r2:.4f}\")\n",
    "print(f\"RMSE: {rmse:.2f}\")\n",
    "\n",
    "# ✅ Save compressed model\n",
    "joblib.dump(model_pipeline, \"model_pipeline.pkl\", compress=3)\n"
   ]
  }
 ],
 "metadata": {
  "kernelspec": {
   "display_name": "Python 3 (ipykernel)",
   "language": "python",
   "name": "python3"
  },
  "language_info": {
   "codemirror_mode": {
    "name": "ipython",
    "version": 3
   },
   "file_extension": ".py",
   "mimetype": "text/x-python",
   "name": "python",
   "nbconvert_exporter": "python",
   "pygments_lexer": "ipython3",
   "version": "3.10.9"
  }
 },
 "nbformat": 4,
 "nbformat_minor": 5
}
